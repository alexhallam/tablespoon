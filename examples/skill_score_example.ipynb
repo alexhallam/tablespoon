{
  "cells": [
    {
      "cell_type": "markdown",
      "metadata": {
        "id": "wNkkOa274gxo"
      },
      "source": [
        "# Skill Score Example\n",
        "\n",
        "One of the primary purposes of this package is to generate forecast methods as benchmarks.\n",
        "\n",
        "One way to use these methods as benchmarks is to generate *skill scores*.\n",
        "\n",
        "Skill scores have the general form:\n",
        "\n",
        "$$\n",
        "\\frac{\\text{CRPS}_{\\text{Naïve}} - \\text{CRPS}_{\\text{Alternative}}}{\\text{CRPS}_{\\text{Naïve}}}\n",
        "$$\n",
        "\n",
        "In this example the mean forecast `tbsp.Mean()` is the **alternative** model and `tbsp.Naive()` is the **naive** forecast."
      ]
    },
    {
      "cell_type": "code",
      "execution_count": 6,
      "metadata": {
        "id": "l1nahJTv3Ooe"
      },
      "outputs": [],
      "source": [
        "import pandas as pd\n",
        "import tablespoon as tbsp\n",
        "from tablespoon.data import APPL\n",
        "import numpy as np\n",
        "import datetime as dt"
      ]
    },
    {
      "cell_type": "code",
      "execution_count": 7,
      "metadata": {
        "id": "b7-Ky4kN3UJ2"
      },
      "outputs": [],
      "source": [
        "# set train and test sets and define crps\n",
        "train = APPL.query('ds <= \"2021-11-01\"')\n",
        "test = APPL.query('ds > \"2021-11-01\"')\n",
        "def crps(scalar_y, vec_of_forecast):\n",
        "    x = np.sort(vec_of_forecast)\n",
        "    m = len(vec_of_forecast)\n",
        "    return (2 / m) * np.mean((x - scalar_y) * (m * np.where(scalar_y < x, 1, 0) - np.arange(start=0, stop=m, step=1) + 1 / 2))"
      ]
    },
    {
      "cell_type": "code",
      "execution_count": 8,
      "metadata": {
        "id": "VVwp0axK3X8O"
      },
      "outputs": [],
      "source": [
        "# make a forecasts with just one hold out as a simple example\n",
        "df_n = tbsp.Naive().predict(\n",
        "    train, horizon=7 * 4, frequency=\"D\", lag=1, uncertainty_samples=8000\n",
        ").assign(model=\"naive\").assign(ds = lambda df: df.ds.dt.strftime('%F'))\n",
        "df_m = tbsp.Mean().predict(\n",
        "    train, horizon=7 * 4, frequency=\"D\", uncertainty_samples=8000\n",
        ").assign(model=\"mean\").assign(ds = lambda df: df.ds.dt.strftime('%F'))\n",
        "df_forecast_actual_n = test.merge(df_n, how='left', on = 'ds')\n",
        "df_forecast_actual_m = test.merge(df_m, how='left', on = 'ds')\n",
        "df_forecasts = pd.concat([df_forecast_actual_n, df_forecast_actual_m], axis=0)"
      ]
    },
    {
      "cell_type": "code",
      "execution_count": 9,
      "metadata": {
        "colab": {
          "base_uri": "https://localhost:8080/"
        },
        "id": "iN-Uf-GD3j5j",
        "outputId": "94263fb1-6d81-4aed-ddc8-7b3fafd0731a"
      },
      "outputs": [
        {
          "name": "stdout",
          "output_type": "stream",
          "text": [
            "val_mean: 0.033\n",
            "val_naive: 0.023\n",
            "skill_score: 0.296\n"
          ]
        }
      ],
      "source": [
        "# calculate crps by date and model\n",
        "df_crps = (df_forecasts\n",
        "            .groupby(by = ['model', 'ds'], as_index=False)\n",
        "            .apply(lambda df: crps(df[\"y\"].iat[0], df[\"y_sim\"]))\n",
        "            .assign(metric=\"crps\")\n",
        "            .rename(columns={None: \"value\"}))\n",
        "\n",
        "# get mean crps\n",
        "df_mean_crps = df_crps.groupby(by = ['model'], as_index=False).mean()\n",
        "\n",
        "# calcuale skill score\n",
        "val_mean = df_mean_crps.query('model == \"mean\"').value.iat[0]\n",
        "val_naive = df_mean_crps.query('model == \"naive\"').value.iat[0]\n",
        "# maybe counterintuitive. the mean is the reference and the naive is the alternative\n",
        "skill_score = (val_mean - val_naive) / val_mean\n",
        "\n",
        "print(f\"val_mean: {np.round(val_mean, 3)}\")\n",
        "print(f\"val_naive: {np.round(val_naive, 3)}\")\n",
        "print(f\"skill_score: {np.round(skill_score, 3)}\")"
      ]
    },
    {
      "cell_type": "code",
      "execution_count": null,
      "metadata": {},
      "outputs": [],
      "source": []
    }
  ],
  "metadata": {
    "colab": {
      "name": "skill_score_example.ipynb",
      "provenance": []
    },
    "kernelspec": {
      "display_name": "Python 3.9.2 64-bit",
      "language": "python",
      "name": "python3"
    },
    "language_info": {
      "codemirror_mode": {
        "name": "ipython",
        "version": 3
      },
      "file_extension": ".py",
      "mimetype": "text/x-python",
      "name": "python",
      "nbconvert_exporter": "python",
      "pygments_lexer": "ipython3",
      "version": "3.9.2"
    },
    "vscode": {
      "interpreter": {
        "hash": "916dbcbb3f70747c44a77c7bcd40155683ae19c65e1c03b4aa3499c5328201f1"
      }
    }
  },
  "nbformat": 4,
  "nbformat_minor": 0
}
